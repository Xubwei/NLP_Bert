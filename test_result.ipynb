{
  "cells": [
    {
      "cell_type": "markdown",
      "metadata": {
        "id": "view-in-github",
        "colab_type": "text"
      },
      "source": [
        "<a href=\"https://colab.research.google.com/github/Xubwei/NLP_Bert/blob/main/test_result.ipynb\" target=\"_parent\"><img src=\"https://colab.research.google.com/assets/colab-badge.svg\" alt=\"Open In Colab\"/></a>"
      ]
    },
    {
      "cell_type": "code",
      "execution_count": null,
      "metadata": {
        "id": "_D9RVD5yJw19"
      },
      "outputs": [],
      "source": [
        "import os\n",
        "import numpy as np\n",
        "import pandas as pd\n",
        "\n",
        "import torch\n",
        "from torch import nn\n",
        "from torch.utils.data import Dataset, DataLoader\n",
        "\n",
        "from transformers import DistilBertTokenizer\n",
        "from transformers import DistilBertModel\n",
        "from transformers import DistilBertTokenizerFast\n",
        "from transformers import DistilBertForSequenceClassification\n",
        "\n",
        "import time\n",
        "import warnings\n",
        "warnings.filterwarnings('ignore')"
      ]
    },
    {
      "cell_type": "code",
      "execution_count": null,
      "metadata": {
        "id": "1-3uCUn_Jw1-",
        "outputId": "0ca0b34f-d30c-4edf-d20b-e20c2c197ca7"
      },
      "outputs": [
        {
          "name": "stderr",
          "output_type": "stream",
          "text": [
            "Some weights of the model checkpoint at distilbert-base-uncased were not used when initializing DistilBertForSequenceClassification: ['vocab_layer_norm.bias', 'vocab_transform.bias', 'vocab_layer_norm.weight', 'vocab_transform.weight', 'vocab_projector.bias', 'vocab_projector.weight']\n",
            "- This IS expected if you are initializing DistilBertForSequenceClassification from the checkpoint of a model trained on another task or with another architecture (e.g. initializing a BertForSequenceClassification model from a BertForPreTraining model).\n",
            "- This IS NOT expected if you are initializing DistilBertForSequenceClassification from the checkpoint of a model that you expect to be exactly identical (initializing a BertForSequenceClassification model from a BertForSequenceClassification model).\n",
            "Some weights of DistilBertForSequenceClassification were not initialized from the model checkpoint at distilbert-base-uncased and are newly initialized: ['pre_classifier.bias', 'classifier.weight', 'pre_classifier.weight', 'classifier.bias']\n",
            "You should probably TRAIN this model on a down-stream task to be able to use it for predictions and inference.\n"
          ]
        },
        {
          "data": {
            "text/plain": [
              "DistilBertForSequenceClassification(\n",
              "  (distilbert): DistilBertModel(\n",
              "    (embeddings): Embeddings(\n",
              "      (word_embeddings): Embedding(30522, 768, padding_idx=0)\n",
              "      (position_embeddings): Embedding(512, 768)\n",
              "      (LayerNorm): LayerNorm((768,), eps=1e-12, elementwise_affine=True)\n",
              "      (dropout): Dropout(p=0.1, inplace=False)\n",
              "    )\n",
              "    (transformer): Transformer(\n",
              "      (layer): ModuleList(\n",
              "        (0): TransformerBlock(\n",
              "          (attention): MultiHeadSelfAttention(\n",
              "            (dropout): Dropout(p=0.1, inplace=False)\n",
              "            (q_lin): Linear(in_features=768, out_features=768, bias=True)\n",
              "            (k_lin): Linear(in_features=768, out_features=768, bias=True)\n",
              "            (v_lin): Linear(in_features=768, out_features=768, bias=True)\n",
              "            (out_lin): Linear(in_features=768, out_features=768, bias=True)\n",
              "          )\n",
              "          (sa_layer_norm): LayerNorm((768,), eps=1e-12, elementwise_affine=True)\n",
              "          (ffn): FFN(\n",
              "            (dropout): Dropout(p=0.1, inplace=False)\n",
              "            (lin1): Linear(in_features=768, out_features=3072, bias=True)\n",
              "            (lin2): Linear(in_features=3072, out_features=768, bias=True)\n",
              "          )\n",
              "          (output_layer_norm): LayerNorm((768,), eps=1e-12, elementwise_affine=True)\n",
              "        )\n",
              "        (1): TransformerBlock(\n",
              "          (attention): MultiHeadSelfAttention(\n",
              "            (dropout): Dropout(p=0.1, inplace=False)\n",
              "            (q_lin): Linear(in_features=768, out_features=768, bias=True)\n",
              "            (k_lin): Linear(in_features=768, out_features=768, bias=True)\n",
              "            (v_lin): Linear(in_features=768, out_features=768, bias=True)\n",
              "            (out_lin): Linear(in_features=768, out_features=768, bias=True)\n",
              "          )\n",
              "          (sa_layer_norm): LayerNorm((768,), eps=1e-12, elementwise_affine=True)\n",
              "          (ffn): FFN(\n",
              "            (dropout): Dropout(p=0.1, inplace=False)\n",
              "            (lin1): Linear(in_features=768, out_features=3072, bias=True)\n",
              "            (lin2): Linear(in_features=3072, out_features=768, bias=True)\n",
              "          )\n",
              "          (output_layer_norm): LayerNorm((768,), eps=1e-12, elementwise_affine=True)\n",
              "        )\n",
              "        (2): TransformerBlock(\n",
              "          (attention): MultiHeadSelfAttention(\n",
              "            (dropout): Dropout(p=0.1, inplace=False)\n",
              "            (q_lin): Linear(in_features=768, out_features=768, bias=True)\n",
              "            (k_lin): Linear(in_features=768, out_features=768, bias=True)\n",
              "            (v_lin): Linear(in_features=768, out_features=768, bias=True)\n",
              "            (out_lin): Linear(in_features=768, out_features=768, bias=True)\n",
              "          )\n",
              "          (sa_layer_norm): LayerNorm((768,), eps=1e-12, elementwise_affine=True)\n",
              "          (ffn): FFN(\n",
              "            (dropout): Dropout(p=0.1, inplace=False)\n",
              "            (lin1): Linear(in_features=768, out_features=3072, bias=True)\n",
              "            (lin2): Linear(in_features=3072, out_features=768, bias=True)\n",
              "          )\n",
              "          (output_layer_norm): LayerNorm((768,), eps=1e-12, elementwise_affine=True)\n",
              "        )\n",
              "        (3): TransformerBlock(\n",
              "          (attention): MultiHeadSelfAttention(\n",
              "            (dropout): Dropout(p=0.1, inplace=False)\n",
              "            (q_lin): Linear(in_features=768, out_features=768, bias=True)\n",
              "            (k_lin): Linear(in_features=768, out_features=768, bias=True)\n",
              "            (v_lin): Linear(in_features=768, out_features=768, bias=True)\n",
              "            (out_lin): Linear(in_features=768, out_features=768, bias=True)\n",
              "          )\n",
              "          (sa_layer_norm): LayerNorm((768,), eps=1e-12, elementwise_affine=True)\n",
              "          (ffn): FFN(\n",
              "            (dropout): Dropout(p=0.1, inplace=False)\n",
              "            (lin1): Linear(in_features=768, out_features=3072, bias=True)\n",
              "            (lin2): Linear(in_features=3072, out_features=768, bias=True)\n",
              "          )\n",
              "          (output_layer_norm): LayerNorm((768,), eps=1e-12, elementwise_affine=True)\n",
              "        )\n",
              "        (4): TransformerBlock(\n",
              "          (attention): MultiHeadSelfAttention(\n",
              "            (dropout): Dropout(p=0.1, inplace=False)\n",
              "            (q_lin): Linear(in_features=768, out_features=768, bias=True)\n",
              "            (k_lin): Linear(in_features=768, out_features=768, bias=True)\n",
              "            (v_lin): Linear(in_features=768, out_features=768, bias=True)\n",
              "            (out_lin): Linear(in_features=768, out_features=768, bias=True)\n",
              "          )\n",
              "          (sa_layer_norm): LayerNorm((768,), eps=1e-12, elementwise_affine=True)\n",
              "          (ffn): FFN(\n",
              "            (dropout): Dropout(p=0.1, inplace=False)\n",
              "            (lin1): Linear(in_features=768, out_features=3072, bias=True)\n",
              "            (lin2): Linear(in_features=3072, out_features=768, bias=True)\n",
              "          )\n",
              "          (output_layer_norm): LayerNorm((768,), eps=1e-12, elementwise_affine=True)\n",
              "        )\n",
              "        (5): TransformerBlock(\n",
              "          (attention): MultiHeadSelfAttention(\n",
              "            (dropout): Dropout(p=0.1, inplace=False)\n",
              "            (q_lin): Linear(in_features=768, out_features=768, bias=True)\n",
              "            (k_lin): Linear(in_features=768, out_features=768, bias=True)\n",
              "            (v_lin): Linear(in_features=768, out_features=768, bias=True)\n",
              "            (out_lin): Linear(in_features=768, out_features=768, bias=True)\n",
              "          )\n",
              "          (sa_layer_norm): LayerNorm((768,), eps=1e-12, elementwise_affine=True)\n",
              "          (ffn): FFN(\n",
              "            (dropout): Dropout(p=0.1, inplace=False)\n",
              "            (lin1): Linear(in_features=768, out_features=3072, bias=True)\n",
              "            (lin2): Linear(in_features=3072, out_features=768, bias=True)\n",
              "          )\n",
              "          (output_layer_norm): LayerNorm((768,), eps=1e-12, elementwise_affine=True)\n",
              "        )\n",
              "      )\n",
              "    )\n",
              "  )\n",
              "  (pre_classifier): Linear(in_features=768, out_features=768, bias=True)\n",
              "  (classifier): Linear(in_features=768, out_features=2, bias=True)\n",
              "  (dropout): Dropout(p=0.2, inplace=False)\n",
              ")"
            ]
          },
          "execution_count": 36,
          "metadata": {},
          "output_type": "execute_result"
        }
      ],
      "source": [
        "from transformers import DistilBertForSequenceClassification\n",
        "device = torch.device('cuda' if torch.cuda.is_available() else 'cpu')\n",
        "# 建立模型\n",
        "model = DistilBertForSequenceClassification.from_pretrained('distilbert-base-uncased', num_labels=2)\n",
        "model = model.to(device)\n",
        "\n",
        "# 載入模型權重\n",
        "state_dict = torch.load('model_best_v5.pt')\n",
        "model.load_state_dict(state_dict)\n",
        "\n",
        "model.eval()"
      ]
    },
    {
      "cell_type": "code",
      "execution_count": null,
      "metadata": {
        "id": "iGT5dQNkJw1_",
        "outputId": "01ea6214-2b46-4f45-da95-68390ad3984e"
      },
      "outputs": [
        {
          "data": {
            "text/html": [
              "<div>\n",
              "<style scoped>\n",
              "    .dataframe tbody tr th:only-of-type {\n",
              "        vertical-align: middle;\n",
              "    }\n",
              "\n",
              "    .dataframe tbody tr th {\n",
              "        vertical-align: top;\n",
              "    }\n",
              "\n",
              "    .dataframe thead th {\n",
              "        text-align: right;\n",
              "    }\n",
              "</style>\n",
              "<table border=\"1\" class=\"dataframe\">\n",
              "  <thead>\n",
              "    <tr style=\"text-align: right;\">\n",
              "      <th></th>\n",
              "      <th>content</th>\n",
              "      <th>result</th>\n",
              "    </tr>\n",
              "  </thead>\n",
              "  <tbody>\n",
              "    <tr>\n",
              "      <th>0</th>\n",
              "      <td>I was so happy tonight. My wife said I had a n...</td>\n",
              "      <td>1</td>\n",
              "    </tr>\n",
              "    <tr>\n",
              "      <th>1</th>\n",
              "      <td>usb port stopped working\\n  from one day to an...</td>\n",
              "      <td>1</td>\n",
              "    </tr>\n",
              "    <tr>\n",
              "      <th>2</th>\n",
              "      <td>Over priced\\n  In darkness it's a great pictur...</td>\n",
              "      <td>1</td>\n",
              "    </tr>\n",
              "    <tr>\n",
              "      <th>3</th>\n",
              "      <td>Outstanding like being in a theater!\\n  I boug...</td>\n",
              "      <td>1</td>\n",
              "    </tr>\n",
              "    <tr>\n",
              "      <th>4</th>\n",
              "      <td>The best projector ever, read on??\\n  Solid co...</td>\n",
              "      <td>1</td>\n",
              "    </tr>\n",
              "  </tbody>\n",
              "</table>\n",
              "</div>"
            ],
            "text/plain": [
              "                                             content result\n",
              "0  I was so happy tonight. My wife said I had a n...      1\n",
              "1  usb port stopped working\\n  from one day to an...      1\n",
              "2  Over priced\\n  In darkness it's a great pictur...      1\n",
              "3  Outstanding like being in a theater!\\n  I boug...      1\n",
              "4  The best projector ever, read on??\\n  Solid co...      1"
            ]
          },
          "execution_count": 37,
          "metadata": {},
          "output_type": "execute_result"
        }
      ],
      "source": [
        "df = pd.read_csv(\"BENQ標記資料_Final.csv\")\n",
        "df['result'] = df['result'].astype('category')\n",
        "df['result'] = df['result'].map({0.0: 1, 1.0: 0})\n",
        "df = df.dropna()\n",
        "df.head()"
      ]
    },
    {
      "cell_type": "code",
      "execution_count": null,
      "metadata": {
        "id": "UR9NcckcJw1_",
        "outputId": "f0db6072-7acd-4901-ba22-47f07c39fea2"
      },
      "outputs": [
        {
          "data": {
            "text/plain": [
              "(9889, 2)"
            ]
          },
          "execution_count": 38,
          "metadata": {},
          "output_type": "execute_result"
        }
      ],
      "source": [
        "df.shape"
      ]
    },
    {
      "cell_type": "markdown",
      "metadata": {
        "id": "f8yR-NCsJw2A"
      },
      "source": [
        "### 隨機抽樣1000筆進行測試"
      ]
    },
    {
      "cell_type": "code",
      "execution_count": null,
      "metadata": {
        "id": "scrSUnpxJw2B",
        "outputId": "4b9756df-08da-47bb-b11b-4dee7aa87b61"
      },
      "outputs": [
        {
          "data": {
            "text/html": [
              "<div>\n",
              "<style scoped>\n",
              "    .dataframe tbody tr th:only-of-type {\n",
              "        vertical-align: middle;\n",
              "    }\n",
              "\n",
              "    .dataframe tbody tr th {\n",
              "        vertical-align: top;\n",
              "    }\n",
              "\n",
              "    .dataframe thead th {\n",
              "        text-align: right;\n",
              "    }\n",
              "</style>\n",
              "<table border=\"1\" class=\"dataframe\">\n",
              "  <thead>\n",
              "    <tr style=\"text-align: right;\">\n",
              "      <th></th>\n",
              "      <th>content</th>\n",
              "      <th>result</th>\n",
              "    </tr>\n",
              "  </thead>\n",
              "  <tbody>\n",
              "    <tr>\n",
              "      <th>4468</th>\n",
              "      <td>Weekly Roundup: Q&amp;A, New Releases, and Promos!...</td>\n",
              "      <td>0</td>\n",
              "    </tr>\n",
              "    <tr>\n",
              "      <th>4823</th>\n",
              "      <td>Projection Mobile Phone, All-In-One Smart HD P...</td>\n",
              "      <td>0</td>\n",
              "    </tr>\n",
              "    <tr>\n",
              "      <th>7735</th>\n",
              "      <td>50% Off TG90簞 4500mah Small Portable Power Ban...</td>\n",
              "      <td>0</td>\n",
              "    </tr>\n",
              "    <tr>\n",
              "      <th>733</th>\n",
              "      <td>Hello friends, I am trying to connect my surro...</td>\n",
              "      <td>1</td>\n",
              "    </tr>\n",
              "    <tr>\n",
              "      <th>7659</th>\n",
              "      <td>50% Off Smart Projector Android TV 9.0, Artlii...</td>\n",
              "      <td>0</td>\n",
              "    </tr>\n",
              "  </tbody>\n",
              "</table>\n",
              "</div>"
            ],
            "text/plain": [
              "                                                content result\n",
              "4468  Weekly Roundup: Q&A, New Releases, and Promos!...      0\n",
              "4823  Projection Mobile Phone, All-In-One Smart HD P...      0\n",
              "7735  50% Off TG90簞 4500mah Small Portable Power Ban...      0\n",
              "733   Hello friends, I am trying to connect my surro...      1\n",
              "7659  50% Off Smart Projector Android TV 9.0, Artlii...      0"
            ]
          },
          "execution_count": 39,
          "metadata": {},
          "output_type": "execute_result"
        }
      ],
      "source": [
        "test_df = df.sample(n=1000, random_state=42)\n",
        "test_df.head()"
      ]
    },
    {
      "cell_type": "code",
      "execution_count": null,
      "metadata": {
        "id": "OrjgR2BeJw2B",
        "outputId": "38e730f2-6a1e-42e7-ce34-95befb575490"
      },
      "outputs": [
        {
          "data": {
            "text/plain": [
              "(1000, 2)"
            ]
          },
          "execution_count": 40,
          "metadata": {},
          "output_type": "execute_result"
        }
      ],
      "source": [
        "test_df.shape"
      ]
    },
    {
      "cell_type": "markdown",
      "metadata": {
        "id": "oCfkpLqtJw2B"
      },
      "source": [
        "### 1.嘗試使用logtis預測\n"
      ]
    },
    {
      "cell_type": "code",
      "execution_count": null,
      "metadata": {
        "id": "Y5pU4zssJw2C",
        "outputId": "7f5e729b-6ce6-47c3-cfc7-7c69f8968a38"
      },
      "outputs": [
        {
          "data": {
            "text/html": [
              "<div>\n",
              "<style scoped>\n",
              "    .dataframe tbody tr th:only-of-type {\n",
              "        vertical-align: middle;\n",
              "    }\n",
              "\n",
              "    .dataframe tbody tr th {\n",
              "        vertical-align: top;\n",
              "    }\n",
              "\n",
              "    .dataframe thead th {\n",
              "        text-align: right;\n",
              "    }\n",
              "</style>\n",
              "<table border=\"1\" class=\"dataframe\">\n",
              "  <thead>\n",
              "    <tr style=\"text-align: right;\">\n",
              "      <th></th>\n",
              "      <th>content</th>\n",
              "      <th>result</th>\n",
              "      <th>predicted_logits_v1</th>\n",
              "    </tr>\n",
              "  </thead>\n",
              "  <tbody>\n",
              "    <tr>\n",
              "      <th>4468</th>\n",
              "      <td>Weekly Roundup: Q&amp;A, New Releases, and Promos!...</td>\n",
              "      <td>0</td>\n",
              "      <td>1</td>\n",
              "    </tr>\n",
              "    <tr>\n",
              "      <th>4823</th>\n",
              "      <td>Projection Mobile Phone, All-In-One Smart HD P...</td>\n",
              "      <td>0</td>\n",
              "      <td>0</td>\n",
              "    </tr>\n",
              "    <tr>\n",
              "      <th>7735</th>\n",
              "      <td>50% Off TG90簞 4500mah Small Portable Power Ban...</td>\n",
              "      <td>0</td>\n",
              "      <td>0</td>\n",
              "    </tr>\n",
              "    <tr>\n",
              "      <th>733</th>\n",
              "      <td>Hello friends, I am trying to connect my surro...</td>\n",
              "      <td>1</td>\n",
              "      <td>1</td>\n",
              "    </tr>\n",
              "    <tr>\n",
              "      <th>7659</th>\n",
              "      <td>50% Off Smart Projector Android TV 9.0, Artlii...</td>\n",
              "      <td>0</td>\n",
              "      <td>0</td>\n",
              "    </tr>\n",
              "  </tbody>\n",
              "</table>\n",
              "</div>"
            ],
            "text/plain": [
              "                                                content result  \\\n",
              "4468  Weekly Roundup: Q&A, New Releases, and Promos!...      0   \n",
              "4823  Projection Mobile Phone, All-In-One Smart HD P...      0   \n",
              "7735  50% Off TG90簞 4500mah Small Portable Power Ban...      0   \n",
              "733   Hello friends, I am trying to connect my surro...      1   \n",
              "7659  50% Off Smart Projector Android TV 9.0, Artlii...      0   \n",
              "\n",
              "      predicted_logits_v1  \n",
              "4468                    1  \n",
              "4823                    0  \n",
              "7735                    0  \n",
              "733                     1  \n",
              "7659                    0  "
            ]
          },
          "execution_count": 41,
          "metadata": {},
          "output_type": "execute_result"
        }
      ],
      "source": [
        "# Initialize the tokenizer\n",
        "tokenizer = DistilBertTokenizerFast.from_pretrained('distilbert-base-cased')\n",
        "\n",
        "# Iterate over the content in the CSV file and make predictions\n",
        "predictions = []\n",
        "for content in test_df['content']: # 這裡暫時放 comparison_df_prob\n",
        "    # Encode the content\n",
        "    encoded_input = tokenizer(content, truncation=True, padding=True, return_tensors='pt')\n",
        "    encoded_input = encoded_input.to('cuda' if torch.cuda.is_available() else 'cpu')\n",
        "\n",
        "    # Make a prediction\n",
        "    with torch.no_grad():\n",
        "        outputs = model(**encoded_input)\n",
        "        logits = outputs.logits\n",
        "\n",
        "        # Get the predicted label\n",
        "        _, predicted_label = torch.max(logits, dim=1)\n",
        "        predictions.append(predicted_label.item())\n",
        "\n",
        "# Add the predictions to the DataFrame\n",
        "test_df['predicted_logits_v1'] = predictions\n",
        "test_df.head()"
      ]
    },
    {
      "cell_type": "markdown",
      "metadata": {
        "id": "K6zNvEEsJw2C"
      },
      "source": [
        "### 2.嘗試使用predict model 預測"
      ]
    },
    {
      "cell_type": "code",
      "execution_count": null,
      "metadata": {
        "id": "gSZgeCNpJw2C",
        "outputId": "56926812-9079-4bff-dc11-7bdf0daf714d"
      },
      "outputs": [
        {
          "name": "stdout",
          "output_type": "stream",
          "text": [
            "Batch 1 of 20: Time taken: 1.88 seconds\n",
            "Batch 2 of 20: Time taken: 1.82 seconds\n",
            "Batch 3 of 20: Time taken: 1.83 seconds\n",
            "Batch 4 of 20: Time taken: 1.82 seconds\n",
            "Batch 5 of 20: Time taken: 1.84 seconds\n",
            "Batch 6 of 20: Time taken: 1.83 seconds\n",
            "Batch 7 of 20: Time taken: 1.84 seconds\n",
            "Batch 8 of 20: Time taken: 1.84 seconds\n",
            "Batch 9 of 20: Time taken: 1.84 seconds\n",
            "Batch 10 of 20: Time taken: 1.83 seconds\n",
            "Batch 11 of 20: Time taken: 1.84 seconds\n",
            "Batch 12 of 20: Time taken: 1.84 seconds\n",
            "Batch 13 of 20: Time taken: 1.82 seconds\n",
            "Batch 14 of 20: Time taken: 1.84 seconds\n",
            "Batch 15 of 20: Time taken: 1.84 seconds\n",
            "Batch 16 of 20: Time taken: 1.84 seconds\n",
            "Batch 17 of 20: Time taken: 1.84 seconds\n",
            "Batch 18 of 20: Time taken: 1.84 seconds\n",
            "Batch 19 of 20: Time taken: 1.85 seconds\n",
            "Batch 20 of 20: Time taken: 1.84 seconds\n"
          ]
        }
      ],
      "source": [
        "import time\n",
        "\n",
        "# Prepare the data\n",
        "PRE_TRAINED_MODEL_NAME = 'distilbert-base-cased'\n",
        "tokenizer = DistilBertTokenizerFast.from_pretrained(PRE_TRAINED_MODEL_NAME)\n",
        "texts = test_df['content'].tolist()\n",
        "encodings = tokenizer(texts, truncation=True, padding=True)\n",
        "input_ids = torch.tensor(encodings['input_ids'])\n",
        "attention_mask = torch.tensor(encodings['attention_mask'])\n",
        "\n",
        "# Split the data into batches\n",
        "batch_size = 50  # Adjust as needed\n",
        "input_batches = torch.split(input_ids, batch_size)\n",
        "attention_mask_batches = torch.split(attention_mask, batch_size)\n",
        "\n",
        "# Make the predictions\n",
        "predictions = []\n",
        "for i, (input_batch, attention_mask_batch) in enumerate(zip(input_batches, attention_mask_batches)):\n",
        "    start_time = time.time()  # Get the start time\n",
        "    with torch.no_grad():\n",
        "        outputs = model(input_batch.to(device), attention_mask=attention_mask_batch.to(device))\n",
        "        _, batch_predictions = torch.max(outputs['logits'], 1)\n",
        "        predictions.extend(batch_predictions.cpu().numpy())\n",
        "    end_time = time.time()  # Get the end time\n",
        "    print(f\"Batch {i+1} of {len(input_batches)}: Time taken: {end_time - start_time:.2f} seconds\")  # Print the time taken\n",
        "\n",
        "# Print the predictions\n",
        "\n",
        "test_df['prediction_model'] = predictions"
      ]
    },
    {
      "cell_type": "code",
      "execution_count": null,
      "metadata": {
        "id": "gncIcQXAJw2C",
        "outputId": "370b3810-1c3f-409e-c306-2496dbca65de"
      },
      "outputs": [
        {
          "data": {
            "text/html": [
              "<div>\n",
              "<style scoped>\n",
              "    .dataframe tbody tr th:only-of-type {\n",
              "        vertical-align: middle;\n",
              "    }\n",
              "\n",
              "    .dataframe tbody tr th {\n",
              "        vertical-align: top;\n",
              "    }\n",
              "\n",
              "    .dataframe thead th {\n",
              "        text-align: right;\n",
              "    }\n",
              "</style>\n",
              "<table border=\"1\" class=\"dataframe\">\n",
              "  <thead>\n",
              "    <tr style=\"text-align: right;\">\n",
              "      <th></th>\n",
              "      <th>content</th>\n",
              "      <th>result</th>\n",
              "      <th>predicted_logits_v1</th>\n",
              "      <th>prediction_model</th>\n",
              "    </tr>\n",
              "  </thead>\n",
              "  <tbody>\n",
              "    <tr>\n",
              "      <th>4468</th>\n",
              "      <td>Weekly Roundup: Q&amp;A, New Releases, and Promos!...</td>\n",
              "      <td>0</td>\n",
              "      <td>1</td>\n",
              "      <td>1</td>\n",
              "    </tr>\n",
              "    <tr>\n",
              "      <th>4823</th>\n",
              "      <td>Projection Mobile Phone, All-In-One Smart HD P...</td>\n",
              "      <td>0</td>\n",
              "      <td>0</td>\n",
              "      <td>0</td>\n",
              "    </tr>\n",
              "    <tr>\n",
              "      <th>7735</th>\n",
              "      <td>50% Off TG90簞 4500mah Small Portable Power Ban...</td>\n",
              "      <td>0</td>\n",
              "      <td>0</td>\n",
              "      <td>0</td>\n",
              "    </tr>\n",
              "    <tr>\n",
              "      <th>733</th>\n",
              "      <td>Hello friends, I am trying to connect my surro...</td>\n",
              "      <td>1</td>\n",
              "      <td>1</td>\n",
              "      <td>1</td>\n",
              "    </tr>\n",
              "    <tr>\n",
              "      <th>7659</th>\n",
              "      <td>50% Off Smart Projector Android TV 9.0, Artlii...</td>\n",
              "      <td>0</td>\n",
              "      <td>0</td>\n",
              "      <td>0</td>\n",
              "    </tr>\n",
              "  </tbody>\n",
              "</table>\n",
              "</div>"
            ],
            "text/plain": [
              "                                                content result  \\\n",
              "4468  Weekly Roundup: Q&A, New Releases, and Promos!...      0   \n",
              "4823  Projection Mobile Phone, All-In-One Smart HD P...      0   \n",
              "7735  50% Off TG90簞 4500mah Small Portable Power Ban...      0   \n",
              "733   Hello friends, I am trying to connect my surro...      1   \n",
              "7659  50% Off Smart Projector Android TV 9.0, Artlii...      0   \n",
              "\n",
              "      predicted_logits_v1  prediction_model  \n",
              "4468                    1                 1  \n",
              "4823                    0                 0  \n",
              "7735                    0                 0  \n",
              "733                     1                 1  \n",
              "7659                    0                 0  "
            ]
          },
          "execution_count": 43,
          "metadata": {},
          "output_type": "execute_result"
        }
      ],
      "source": [
        "test_df.head()"
      ]
    },
    {
      "cell_type": "markdown",
      "metadata": {
        "id": "bcWWgzuAJw2D"
      },
      "source": [
        "### 3. 使用prob看"
      ]
    },
    {
      "cell_type": "code",
      "execution_count": null,
      "metadata": {
        "id": "lM5q2O3KJw2D"
      },
      "outputs": [],
      "source": [
        "# 載入tokenizer\n",
        "tokenizer = DistilBertTokenizerFast.from_pretrained('distilbert-base-uncased')\n",
        "\n",
        "# 定義一個函數，該函數接受一段文本，並返回該文本為非廣告的機率\n",
        "def get_prob_non_ad(text):\n",
        "    inputs = tokenizer(text, truncation=True, padding=True, return_tensors='pt')\n",
        "    inputs = {name: tensor.to(device) for name, tensor in inputs.items()}\n",
        "\n",
        "    outputs = model(**inputs)\n",
        "    scores = outputs.logits\n",
        "\n",
        "    # 將原始的分數通過softmax函數轉換為機率。\n",
        "    probs = torch.nn.functional.softmax(scores, dim=-1)\n",
        "\n",
        "    # 將預測結果的機率從GPU取出來並轉換為numpy array，並取第一個元素的第二個值，這裡是代表「非廣告文」的機率。\n",
        "    prob_non_ad = probs.detach().to('cpu').numpy()[0,1]\n",
        "\n",
        "    return prob_non_ad\n",
        "\n",
        "# 為DataFrame的每一行增加一個新的欄位\n",
        "test_df['prob_non_ad'] = test_df['content'].apply(get_prob_non_ad)"
      ]
    },
    {
      "cell_type": "code",
      "execution_count": null,
      "metadata": {
        "id": "XEyJMV-qJw2D",
        "outputId": "2a8ddb7f-6ee0-4eff-9767-ca566233ae38"
      },
      "outputs": [
        {
          "data": {
            "text/html": [
              "<div>\n",
              "<style scoped>\n",
              "    .dataframe tbody tr th:only-of-type {\n",
              "        vertical-align: middle;\n",
              "    }\n",
              "\n",
              "    .dataframe tbody tr th {\n",
              "        vertical-align: top;\n",
              "    }\n",
              "\n",
              "    .dataframe thead th {\n",
              "        text-align: right;\n",
              "    }\n",
              "</style>\n",
              "<table border=\"1\" class=\"dataframe\">\n",
              "  <thead>\n",
              "    <tr style=\"text-align: right;\">\n",
              "      <th></th>\n",
              "      <th>content</th>\n",
              "      <th>result</th>\n",
              "      <th>predicted_logits_v1</th>\n",
              "      <th>prediction_model</th>\n",
              "      <th>prob_non_ad</th>\n",
              "    </tr>\n",
              "  </thead>\n",
              "  <tbody>\n",
              "    <tr>\n",
              "      <th>4468</th>\n",
              "      <td>Weekly Roundup: Q&amp;A, New Releases, and Promos!...</td>\n",
              "      <td>0</td>\n",
              "      <td>1</td>\n",
              "      <td>1</td>\n",
              "      <td>0.714316</td>\n",
              "    </tr>\n",
              "    <tr>\n",
              "      <th>4823</th>\n",
              "      <td>Projection Mobile Phone, All-In-One Smart HD P...</td>\n",
              "      <td>0</td>\n",
              "      <td>0</td>\n",
              "      <td>0</td>\n",
              "      <td>0.534269</td>\n",
              "    </tr>\n",
              "    <tr>\n",
              "      <th>7735</th>\n",
              "      <td>50% Off TG90簞 4500mah Small Portable Power Ban...</td>\n",
              "      <td>0</td>\n",
              "      <td>0</td>\n",
              "      <td>0</td>\n",
              "      <td>0.527293</td>\n",
              "    </tr>\n",
              "    <tr>\n",
              "      <th>733</th>\n",
              "      <td>Hello friends, I am trying to connect my surro...</td>\n",
              "      <td>1</td>\n",
              "      <td>1</td>\n",
              "      <td>1</td>\n",
              "      <td>0.463084</td>\n",
              "    </tr>\n",
              "    <tr>\n",
              "      <th>7659</th>\n",
              "      <td>50% Off Smart Projector Android TV 9.0, Artlii...</td>\n",
              "      <td>0</td>\n",
              "      <td>0</td>\n",
              "      <td>0</td>\n",
              "      <td>0.432691</td>\n",
              "    </tr>\n",
              "  </tbody>\n",
              "</table>\n",
              "</div>"
            ],
            "text/plain": [
              "                                                content result  \\\n",
              "4468  Weekly Roundup: Q&A, New Releases, and Promos!...      0   \n",
              "4823  Projection Mobile Phone, All-In-One Smart HD P...      0   \n",
              "7735  50% Off TG90簞 4500mah Small Portable Power Ban...      0   \n",
              "733   Hello friends, I am trying to connect my surro...      1   \n",
              "7659  50% Off Smart Projector Android TV 9.0, Artlii...      0   \n",
              "\n",
              "      predicted_logits_v1  prediction_model  prob_non_ad  \n",
              "4468                    1                 1     0.714316  \n",
              "4823                    0                 0     0.534269  \n",
              "7735                    0                 0     0.527293  \n",
              "733                     1                 1     0.463084  \n",
              "7659                    0                 0     0.432691  "
            ]
          },
          "execution_count": 45,
          "metadata": {},
          "output_type": "execute_result"
        }
      ],
      "source": [
        "test_df.head()"
      ]
    },
    {
      "cell_type": "markdown",
      "metadata": {
        "id": "U4G0RSNUJw2D"
      },
      "source": [
        "### 查看成果"
      ]
    },
    {
      "cell_type": "code",
      "execution_count": null,
      "metadata": {
        "id": "7ctOuXbCJw2D",
        "outputId": "1216ac60-2dd1-42ce-a5bd-abfeb88a4105"
      },
      "outputs": [
        {
          "name": "stdout",
          "output_type": "stream",
          "text": [
            "<class 'pandas.core.frame.DataFrame'>\n",
            "Int64Index: 1000 entries, 4468 to 9236\n",
            "Data columns (total 5 columns):\n",
            " #   Column               Non-Null Count  Dtype  \n",
            "---  ------               --------------  -----  \n",
            " 0   content              1000 non-null   object \n",
            " 1   True_Label           1000 non-null   int64  \n",
            " 2   predicted_logits_v1  1000 non-null   int64  \n",
            " 3   prediction_model     1000 non-null   int64  \n",
            " 4   prob_non_ad          1000 non-null   float32\n",
            "dtypes: float32(1), int64(3), object(1)\n",
            "memory usage: 43.0+ KB\n"
          ]
        }
      ],
      "source": [
        "test_df = test_df.rename(columns={'result': 'True_Label'})\n",
        "test_df['True_Label'] = test_df['True_Label'].astype(int)\n",
        "test_df.info()"
      ]
    },
    {
      "cell_type": "code",
      "execution_count": null,
      "metadata": {
        "id": "rHwcHeaxJw2D",
        "outputId": "6db392a7-02e0-4b6a-dd04-ab17ced789a0"
      },
      "outputs": [
        {
          "data": {
            "text/html": [
              "<div>\n",
              "<style scoped>\n",
              "    .dataframe tbody tr th:only-of-type {\n",
              "        vertical-align: middle;\n",
              "    }\n",
              "\n",
              "    .dataframe tbody tr th {\n",
              "        vertical-align: top;\n",
              "    }\n",
              "\n",
              "    .dataframe thead th {\n",
              "        text-align: right;\n",
              "    }\n",
              "</style>\n",
              "<table border=\"1\" class=\"dataframe\">\n",
              "  <thead>\n",
              "    <tr style=\"text-align: right;\">\n",
              "      <th></th>\n",
              "      <th>content</th>\n",
              "      <th>True_Label</th>\n",
              "      <th>predicted_logits_v1</th>\n",
              "      <th>prediction_model</th>\n",
              "      <th>prob_non_ad</th>\n",
              "    </tr>\n",
              "  </thead>\n",
              "  <tbody>\n",
              "    <tr>\n",
              "      <th>4468</th>\n",
              "      <td>Weekly Roundup: Q&amp;A, New Releases, and Promos!...</td>\n",
              "      <td>0</td>\n",
              "      <td>1</td>\n",
              "      <td>1</td>\n",
              "      <td>0.714316</td>\n",
              "    </tr>\n",
              "    <tr>\n",
              "      <th>4823</th>\n",
              "      <td>Projection Mobile Phone, All-In-One Smart HD P...</td>\n",
              "      <td>0</td>\n",
              "      <td>0</td>\n",
              "      <td>0</td>\n",
              "      <td>0.534269</td>\n",
              "    </tr>\n",
              "    <tr>\n",
              "      <th>7735</th>\n",
              "      <td>50% Off TG90簞 4500mah Small Portable Power Ban...</td>\n",
              "      <td>0</td>\n",
              "      <td>0</td>\n",
              "      <td>0</td>\n",
              "      <td>0.527293</td>\n",
              "    </tr>\n",
              "    <tr>\n",
              "      <th>733</th>\n",
              "      <td>Hello friends, I am trying to connect my surro...</td>\n",
              "      <td>1</td>\n",
              "      <td>1</td>\n",
              "      <td>1</td>\n",
              "      <td>0.463084</td>\n",
              "    </tr>\n",
              "    <tr>\n",
              "      <th>7659</th>\n",
              "      <td>50% Off Smart Projector Android TV 9.0, Artlii...</td>\n",
              "      <td>0</td>\n",
              "      <td>0</td>\n",
              "      <td>0</td>\n",
              "      <td>0.432691</td>\n",
              "    </tr>\n",
              "  </tbody>\n",
              "</table>\n",
              "</div>"
            ],
            "text/plain": [
              "                                                content  True_Label  \\\n",
              "4468  Weekly Roundup: Q&A, New Releases, and Promos!...           0   \n",
              "4823  Projection Mobile Phone, All-In-One Smart HD P...           0   \n",
              "7735  50% Off TG90簞 4500mah Small Portable Power Ban...           0   \n",
              "733   Hello friends, I am trying to connect my surro...           1   \n",
              "7659  50% Off Smart Projector Android TV 9.0, Artlii...           0   \n",
              "\n",
              "      predicted_logits_v1  prediction_model  prob_non_ad  \n",
              "4468                    1                 1     0.714316  \n",
              "4823                    0                 0     0.534269  \n",
              "7735                    0                 0     0.527293  \n",
              "733                     1                 1     0.463084  \n",
              "7659                    0                 0     0.432691  "
            ]
          },
          "execution_count": 47,
          "metadata": {},
          "output_type": "execute_result"
        }
      ],
      "source": [
        "test_df.head()"
      ]
    },
    {
      "cell_type": "code",
      "execution_count": null,
      "metadata": {
        "id": "CaeIXSLWJw2D"
      },
      "outputs": [],
      "source": [
        "from sklearn.metrics import accuracy_score, precision_score, recall_score, f1_score, roc_auc_score, roc_curve\n",
        "import numpy as np\n",
        "\n",
        "# Create a dictionary to store the results\n",
        "results = {}\n",
        "\n",
        "# Calculate metrics for each prediction method\n",
        "for method in ['prob_non_ad', 'predicted_logits_v1', 'prediction_model']:\n",
        "    if method == 'prob_non_ad':\n",
        "        # Use 0.5 as the threshold\n",
        "        predictions = np.where(test_df[method] >= 0.5, 1, 0)\n",
        "    else:\n",
        "        predictions = test_df[method]\n",
        "\n",
        "    accuracy = accuracy_score(test_df['True_Label'], predictions)\n",
        "    precision = precision_score(test_df['True_Label'], predictions)\n",
        "    recall = recall_score(test_df['True_Label'], predictions)\n",
        "    f1 = f1_score(test_df['True_Label'], predictions)\n",
        "\n",
        "    results[method] = {\n",
        "        'accuracy': accuracy,\n",
        "        'precision': precision,\n",
        "        'recall': recall,\n",
        "        'f1': f1\n",
        "    }"
      ]
    },
    {
      "cell_type": "code",
      "execution_count": null,
      "metadata": {
        "id": "vEjeoCBZJw2D",
        "outputId": "a7d2009d-6a50-4433-8c1c-93ea9152cc4c"
      },
      "outputs": [
        {
          "data": {
            "text/html": [
              "<div>\n",
              "<style scoped>\n",
              "    .dataframe tbody tr th:only-of-type {\n",
              "        vertical-align: middle;\n",
              "    }\n",
              "\n",
              "    .dataframe tbody tr th {\n",
              "        vertical-align: top;\n",
              "    }\n",
              "\n",
              "    .dataframe thead th {\n",
              "        text-align: right;\n",
              "    }\n",
              "</style>\n",
              "<table border=\"1\" class=\"dataframe\">\n",
              "  <thead>\n",
              "    <tr style=\"text-align: right;\">\n",
              "      <th></th>\n",
              "      <th>accuracy</th>\n",
              "      <th>precision</th>\n",
              "      <th>recall</th>\n",
              "      <th>f1</th>\n",
              "    </tr>\n",
              "  </thead>\n",
              "  <tbody>\n",
              "    <tr>\n",
              "      <th>prob_non_ad</th>\n",
              "      <td>0.374</td>\n",
              "      <td>0.313830</td>\n",
              "      <td>0.682081</td>\n",
              "      <td>0.429872</td>\n",
              "    </tr>\n",
              "    <tr>\n",
              "      <th>predicted_logits_v1</th>\n",
              "      <td>0.924</td>\n",
              "      <td>0.870879</td>\n",
              "      <td>0.916185</td>\n",
              "      <td>0.892958</td>\n",
              "    </tr>\n",
              "    <tr>\n",
              "      <th>prediction_model</th>\n",
              "      <td>0.924</td>\n",
              "      <td>0.870879</td>\n",
              "      <td>0.916185</td>\n",
              "      <td>0.892958</td>\n",
              "    </tr>\n",
              "  </tbody>\n",
              "</table>\n",
              "</div>"
            ],
            "text/plain": [
              "                     accuracy  precision    recall        f1\n",
              "prob_non_ad             0.374   0.313830  0.682081  0.429872\n",
              "predicted_logits_v1     0.924   0.870879  0.916185  0.892958\n",
              "prediction_model        0.924   0.870879  0.916185  0.892958"
            ]
          },
          "execution_count": 49,
          "metadata": {},
          "output_type": "execute_result"
        }
      ],
      "source": [
        "# Convert the results dictionary to a dataframe\n",
        "results_df = pd.DataFrame(results).T\n",
        "\n",
        "# Display the results dataframe\n",
        "results_df"
      ]
    },
    {
      "cell_type": "markdown",
      "metadata": {
        "id": "vhwQOAA4Jw2D"
      },
      "source": [
        "### 詳細查看 predicted_logits_v1"
      ]
    },
    {
      "cell_type": "code",
      "execution_count": null,
      "metadata": {
        "id": "Pua3MxxLJw2D",
        "outputId": "f0ed9d20-9b7c-41df-b6c8-747677f6812b"
      },
      "outputs": [
        {
          "name": "stdout",
          "output_type": "stream",
          "text": [
            "0.924\n",
            "=================\n",
            "[[607  47]\n",
            " [ 29 317]]\n",
            "=================\n",
            "              precision    recall  f1-score   support\n",
            "\n",
            "           0       0.95      0.93      0.94       654\n",
            "           1       0.87      0.92      0.89       346\n",
            "\n",
            "    accuracy                           0.92      1000\n",
            "   macro avg       0.91      0.92      0.92      1000\n",
            "weighted avg       0.93      0.92      0.92      1000\n",
            "\n"
          ]
        }
      ],
      "source": [
        "from sklearn.metrics import accuracy_score, confusion_matrix, classification_report\n",
        "new_predictions = (test_df['predicted_logits_v1']).astype(int)\n",
        "# Compute new accuracy\n",
        "new_accuracy = accuracy_score(test_df['True_Label'], new_predictions)\n",
        "# Compute new confusion matrix\n",
        "new_confusion_mat = confusion_matrix(test_df['True_Label'], new_predictions)\n",
        "# Compute new classification report\n",
        "new_class_report = classification_report(test_df['True_Label'], new_predictions)\n",
        "print(new_accuracy)\n",
        "print(\"=================\")\n",
        "print(new_confusion_mat)\n",
        "print(\"=================\")\n",
        "print(new_class_report)"
      ]
    }
  ],
  "metadata": {
    "kernelspec": {
      "display_name": "Python 3.7.6 ('base')",
      "language": "python",
      "name": "python3"
    },
    "language_info": {
      "codemirror_mode": {
        "name": "ipython",
        "version": 3
      },
      "file_extension": ".py",
      "mimetype": "text/x-python",
      "name": "python",
      "nbconvert_exporter": "python",
      "pygments_lexer": "ipython3",
      "version": "3.7.6"
    },
    "orig_nbformat": 4,
    "vscode": {
      "interpreter": {
        "hash": "a462998412af0d463b62152b3ea064a2671ef506f713bd6fcf7fbaee90cc0b31"
      }
    },
    "colab": {
      "provenance": [],
      "include_colab_link": true
    }
  },
  "nbformat": 4,
  "nbformat_minor": 0
}